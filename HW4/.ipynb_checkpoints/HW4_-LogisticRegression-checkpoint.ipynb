{
 "cells": [
  {
   "cell_type": "code",
   "execution_count": 1,
   "metadata": {},
   "outputs": [],
   "source": [
    "from numpy.linalg import inv\n",
    "import numpy as np\n",
    "import matplotlib.pyplot as plt\n",
    "import math\n",
    "from math import e\n",
    "from math import log\n",
    "from numpy import linalg\n",
    "import sys\n",
    "import sympy\n",
    "from sympy import *\n",
    "from IPython.display import display, HTML\n",
    "import random\n",
    "\n",
    "%matplotlib inline\n",
    "%config IPCompleter.greedy=True\n",
    "sympy.init_printing(use_unicode=False, wrap_line=True)\n",
    "np.set_printoptions(suppress=True)"
   ]
  },
  {
   "cell_type": "code",
   "execution_count": 2,
   "metadata": {},
   "outputs": [],
   "source": [
    "def CLT_std_norm_rand():\n",
    "    random_nums = [random.uniform(0, 1) for x in range(12)] \n",
    "    std_norm_rand = sum(random_nums) - 6\n",
    "    return std_norm_rand\n",
    "\n",
    "def gaussian_data_generator(mean, var, method=0):\n",
    "    if method==0:\n",
    "        std_norm_rand = CLT_std_norm_rand()\n",
    "    norm_rand = mean + (std_norm_rand * var**(1/2))\n",
    "    return norm_rand\n",
    "\n",
    "def plot_data(D1, D2):\n",
    "    xs_1 = [x for x,y,b in D1]\n",
    "    ys_1 = [y for x,y,b in D1]\n",
    "    xs_2 = [x for x,y,b in D2]\n",
    "    ys_2 = [y for x,y,b in D2]\n",
    "    plt.scatter(xs_1, ys_1, color='blue', marker='o')\n",
    "    plt.scatter(xs_2, ys_2, color='red', marker='o')\n",
    "    \n",
    "    # plt.show()\n",
    "\n",
    "def plot_decision_boundary(theta):\n",
    "    w1, w2, w0 = theta\n",
    "    xs = np.linspace(-10, 10, 100)\n",
    "    ys = [ np.asscalar((-w0-w1*x1)/w2) for x1 in xs]\n",
    "    \n",
    "    plt.plot(xs, ys, label='Decision Boundary')\n",
    "    ys_upper = [ y+1000 for y in ys]\n",
    "    ys_lower = [ y-1000 for y in ys]\n",
    "    \n",
    "    plt.plot(xs, ys_upper, c = \"g\")\n",
    "    plt.plot(xs, ys_lower, c = 'r')\n",
    "\n",
    "    plt.fill_between(xs, ys, ys_upper, facecolor = \"red\", alpha=0.1)\n",
    "    plt.fill_between(xs, ys, ys_lower, facecolor = \"blue\", alpha=0.1)\n",
    "    #plt.legend()"
   ]
  },
  {
   "cell_type": "code",
   "execution_count": 3,
   "metadata": {},
   "outputs": [],
   "source": [
    "def is_nan(x):\n",
    "    return (x is np.nan or x != x or math.isnan(float(x)))\n",
    "\n",
    "def logistic_function(z):\n",
    "    e = math.e\n",
    "    return 1 / (1 + e**(-z) )\n",
    "\n",
    "def prediction(x, w):\n",
    "    z = np.asscalar(np.matmul(w.T, x))\n",
    "    return logistic_function(z)\n",
    "\n",
    "def evaluation(X,Y,theta):\n",
    "    n_correct, n_total = 0, 0\n",
    "    for x, y in zip(X,Y):\n",
    "        x_ = np.array(x, ndmin=2).reshape(num_basis, 1)\n",
    "        pred = prediction(x_, theta)\n",
    "        if int(pred>=0.5) == y:\n",
    "            n_correct += 1\n",
    "        n_total += 1\n",
    "    return n_correct / n_total\n",
    "\n",
    "\n",
    "def hession(X, w):\n",
    "    D = np.zeros((len(X), len(X)))\n",
    "    for d in range(len(X)):\n",
    "        x = np.array(X[d], ndmin=2).reshape(num_basis, 1)\n",
    "        z = np.asscalar(np.matmul(w.T, x))\n",
    "        D[d][d] = e**(-z) / ((1+e**(-z))**2)\n",
    "    A = np.array(X)\n",
    "    return np.matmul(np.matmul(A.T, D), A)\n",
    "\n",
    "def gradient(X, Y, theta):\n",
    "    predictions = []\n",
    "    for x in X:\n",
    "        x = np.array(x, ndmin=2).reshape(num_basis, 1)\n",
    "        predictions.append(prediction(x, theta))\n",
    "    X = np.reshape(X, (len(X), 3))\n",
    "    Y = np.reshape(Y, (len(Y), 1))\n",
    "    predictions = np.reshape(predictions, (len(Y), 1))\n",
    "    return np.matmul(X.T, predictions-Y)\n",
    "\n",
    "def compute_loss(X, Y, theta):\n",
    "    loss = 0\n",
    "    for x, y in zip(X,Y):\n",
    "        y_pred = prediction(x, theta)\n",
    "        l = -1*(y*log(y_pred) + (1-y)*log(1-y_pred))\n",
    "        if not is_nan(l):\n",
    "            loss += -1*(y*log(y_pred) + (1-y)*log(1-y_pred))\n",
    "    if is_nan(loss/len(X)):\n",
    "        print(loss)\n",
    "    return loss / len(X)\n",
    "        \n",
    "    \n",
    "def logistic_optimization(X, Y, theta, lr=0.1, max_epochs=10, batch_size=100):\n",
    "    X = np.array(X)\n",
    "    Y = np.array(Y)\n",
    "    best_loss = 100\n",
    "    for epoch in range(max_epochs):\n",
    "        print('#### epoch : %d #### (lr=%g)' %(epoch+1, lr))\n",
    "        order = [i for i in range(len(X))]\n",
    "        order = np.random.permutation(order)\n",
    "        for i in range(0, len(order), batch_size):\n",
    "            indexes = order[i:i+batch_size] if i+batch_size < len(order) else order[i:]\n",
    "            X_sample = X[indexes]\n",
    "            Y_sample = Y[indexes]\n",
    "            h = hession(X_sample, theta)\n",
    "            g = gradient(X_sample, Y_sample, theta)\n",
    "            if linalg.cond(h) < 1/sys.float_info.epsilon: \n",
    "                # if hession is invertible, use newton's method\n",
    "                h_inv = linalg.inv(h)\n",
    "                theta = theta - lr * np.matmul(h_inv, g)\n",
    "            else:\n",
    "                # if hession is not invertible, use gradient descent\n",
    "                theta = theta - lr * g\n",
    "        loss = compute_loss(X, Y, theta)\n",
    "        print('Loss : %.8f'% (loss))\n",
    "        print('Acc : %.2f'% (evaluation(X,Y,theta)*100))\n",
    "        if loss >= best_loss:\n",
    "            lr = lr * 0.1\n",
    "            if lr < 0.001:\n",
    "                print('\\nConverge after %d epoch' %(epoch+1))\n",
    "                break\n",
    "        else:\n",
    "            best_loss = loss\n",
    "    return theta"
   ]
  },
  {
   "cell_type": "code",
   "execution_count": 8,
   "metadata": {},
   "outputs": [],
   "source": [
    "# Ground Truth\n",
    "mx1 = 0\n",
    "my1 = 0\n",
    "vx1 = 1\n",
    "vy1 = 1\n",
    "\n",
    "mx2 = 5\n",
    "my2 = 5\n",
    "vx2 = 1\n",
    "vy2 = 1\n",
    "\n",
    "# Generate Data\n",
    "num_points = 2000\n",
    "D1 = []\n",
    "D2 = []\n",
    "for i in range(num_points):\n",
    "    x1 = gaussian_data_generator(mean=mx1, var=vx1)\n",
    "    y1 = gaussian_data_generator(mean=my1, var=vy1)\n",
    "    D1.append([x1, y1, 1]) # add bais term\n",
    "    x2 = gaussian_data_generator(mean=mx2, var=vx2)\n",
    "    y2 = gaussian_data_generator(mean=my2, var=vy2)\n",
    "    D2.append([x2, y2, 1]) # add bias term"
   ]
  },
  {
   "cell_type": "code",
   "execution_count": 10,
   "metadata": {},
   "outputs": [
    {
     "name": "stdout",
     "output_type": "stream",
     "text": [
      "#### epoch : 1 #### (lr=0.1)\n"
     ]
    },
    {
     "ename": "OverflowError",
     "evalue": "(34, 'Result too large')",
     "output_type": "error",
     "traceback": [
      "\u001b[0;31m---------------------------------------------------------------------------\u001b[0m",
      "\u001b[0;31mOverflowError\u001b[0m                             Traceback (most recent call last)",
      "\u001b[0;32m<ipython-input-10-fc37c6c3762f>\u001b[0m in \u001b[0;36m<module>\u001b[0;34m()\u001b[0m\n\u001b[1;32m      7\u001b[0m \u001b[0;34m\u001b[0m\u001b[0m\n\u001b[1;32m      8\u001b[0m \u001b[0mh\u001b[0m \u001b[0;34m=\u001b[0m \u001b[0mhession\u001b[0m\u001b[0;34m(\u001b[0m\u001b[0mX\u001b[0m\u001b[0;34m,\u001b[0m \u001b[0mtheta\u001b[0m\u001b[0;34m)\u001b[0m\u001b[0;34m\u001b[0m\u001b[0m\n\u001b[0;32m----> 9\u001b[0;31m \u001b[0mtheta_newton\u001b[0m \u001b[0;34m=\u001b[0m \u001b[0mlogistic_optimization\u001b[0m\u001b[0;34m(\u001b[0m\u001b[0mX\u001b[0m\u001b[0;34m,\u001b[0m \u001b[0mY\u001b[0m\u001b[0;34m,\u001b[0m \u001b[0mtheta\u001b[0m\u001b[0;34m,\u001b[0m \u001b[0mlr\u001b[0m\u001b[0;34m=\u001b[0m\u001b[0;36m0.1\u001b[0m\u001b[0;34m,\u001b[0m \u001b[0mmax_epochs\u001b[0m\u001b[0;34m=\u001b[0m\u001b[0;36m100\u001b[0m\u001b[0;34m,\u001b[0m \u001b[0mbatch_size\u001b[0m\u001b[0;34m=\u001b[0m\u001b[0;36m128\u001b[0m\u001b[0;34m)\u001b[0m\u001b[0;34m\u001b[0m\u001b[0m\n\u001b[0m",
      "\u001b[0;32m<ipython-input-3-e4e24bb3d715>\u001b[0m in \u001b[0;36mlogistic_optimization\u001b[0;34m(X, Y, theta, lr, max_epochs, batch_size)\u001b[0m\n\u001b[1;32m     64\u001b[0m             \u001b[0mX_sample\u001b[0m \u001b[0;34m=\u001b[0m \u001b[0mX\u001b[0m\u001b[0;34m[\u001b[0m\u001b[0mindexes\u001b[0m\u001b[0;34m]\u001b[0m\u001b[0;34m\u001b[0m\u001b[0m\n\u001b[1;32m     65\u001b[0m             \u001b[0mY_sample\u001b[0m \u001b[0;34m=\u001b[0m \u001b[0mY\u001b[0m\u001b[0;34m[\u001b[0m\u001b[0mindexes\u001b[0m\u001b[0;34m]\u001b[0m\u001b[0;34m\u001b[0m\u001b[0m\n\u001b[0;32m---> 66\u001b[0;31m             \u001b[0mh\u001b[0m \u001b[0;34m=\u001b[0m \u001b[0mhession\u001b[0m\u001b[0;34m(\u001b[0m\u001b[0mX_sample\u001b[0m\u001b[0;34m,\u001b[0m \u001b[0mtheta\u001b[0m\u001b[0;34m)\u001b[0m\u001b[0;34m\u001b[0m\u001b[0m\n\u001b[0m\u001b[1;32m     67\u001b[0m             \u001b[0mg\u001b[0m \u001b[0;34m=\u001b[0m \u001b[0mgradient\u001b[0m\u001b[0;34m(\u001b[0m\u001b[0mX_sample\u001b[0m\u001b[0;34m,\u001b[0m \u001b[0mY_sample\u001b[0m\u001b[0;34m,\u001b[0m \u001b[0mtheta\u001b[0m\u001b[0;34m)\u001b[0m\u001b[0;34m\u001b[0m\u001b[0m\n\u001b[1;32m     68\u001b[0m             \u001b[0;32mif\u001b[0m \u001b[0mlinalg\u001b[0m\u001b[0;34m.\u001b[0m\u001b[0mcond\u001b[0m\u001b[0;34m(\u001b[0m\u001b[0mh\u001b[0m\u001b[0;34m)\u001b[0m \u001b[0;34m<\u001b[0m \u001b[0;36m1\u001b[0m\u001b[0;34m/\u001b[0m\u001b[0msys\u001b[0m\u001b[0;34m.\u001b[0m\u001b[0mfloat_info\u001b[0m\u001b[0;34m.\u001b[0m\u001b[0mepsilon\u001b[0m\u001b[0;34m:\u001b[0m\u001b[0;34m\u001b[0m\u001b[0m\n",
      "\u001b[0;32m<ipython-input-3-e4e24bb3d715>\u001b[0m in \u001b[0;36mhession\u001b[0;34m(X, w)\u001b[0m\n\u001b[1;32m     26\u001b[0m         \u001b[0mx\u001b[0m \u001b[0;34m=\u001b[0m \u001b[0mnp\u001b[0m\u001b[0;34m.\u001b[0m\u001b[0marray\u001b[0m\u001b[0;34m(\u001b[0m\u001b[0mX\u001b[0m\u001b[0;34m[\u001b[0m\u001b[0md\u001b[0m\u001b[0;34m]\u001b[0m\u001b[0;34m,\u001b[0m \u001b[0mndmin\u001b[0m\u001b[0;34m=\u001b[0m\u001b[0;36m2\u001b[0m\u001b[0;34m)\u001b[0m\u001b[0;34m.\u001b[0m\u001b[0mreshape\u001b[0m\u001b[0;34m(\u001b[0m\u001b[0mnum_basis\u001b[0m\u001b[0;34m,\u001b[0m \u001b[0;36m1\u001b[0m\u001b[0;34m)\u001b[0m\u001b[0;34m\u001b[0m\u001b[0m\n\u001b[1;32m     27\u001b[0m         \u001b[0mz\u001b[0m \u001b[0;34m=\u001b[0m \u001b[0mnp\u001b[0m\u001b[0;34m.\u001b[0m\u001b[0masscalar\u001b[0m\u001b[0;34m(\u001b[0m\u001b[0mnp\u001b[0m\u001b[0;34m.\u001b[0m\u001b[0mmatmul\u001b[0m\u001b[0;34m(\u001b[0m\u001b[0mw\u001b[0m\u001b[0;34m.\u001b[0m\u001b[0mT\u001b[0m\u001b[0;34m,\u001b[0m \u001b[0mx\u001b[0m\u001b[0;34m)\u001b[0m\u001b[0;34m)\u001b[0m\u001b[0;34m\u001b[0m\u001b[0m\n\u001b[0;32m---> 28\u001b[0;31m         \u001b[0mD\u001b[0m\u001b[0;34m[\u001b[0m\u001b[0md\u001b[0m\u001b[0;34m]\u001b[0m\u001b[0;34m[\u001b[0m\u001b[0md\u001b[0m\u001b[0;34m]\u001b[0m \u001b[0;34m=\u001b[0m \u001b[0me\u001b[0m\u001b[0;34m**\u001b[0m\u001b[0;34m(\u001b[0m\u001b[0;34m-\u001b[0m\u001b[0mz\u001b[0m\u001b[0;34m)\u001b[0m \u001b[0;34m/\u001b[0m \u001b[0;34m(\u001b[0m\u001b[0;34m(\u001b[0m\u001b[0;36m1\u001b[0m\u001b[0;34m+\u001b[0m\u001b[0me\u001b[0m\u001b[0;34m**\u001b[0m\u001b[0;34m(\u001b[0m\u001b[0;34m-\u001b[0m\u001b[0mz\u001b[0m\u001b[0;34m)\u001b[0m\u001b[0;34m)\u001b[0m\u001b[0;34m**\u001b[0m\u001b[0;36m2\u001b[0m\u001b[0;34m)\u001b[0m\u001b[0;34m\u001b[0m\u001b[0m\n\u001b[0m\u001b[1;32m     29\u001b[0m     \u001b[0mA\u001b[0m \u001b[0;34m=\u001b[0m \u001b[0mnp\u001b[0m\u001b[0;34m.\u001b[0m\u001b[0marray\u001b[0m\u001b[0;34m(\u001b[0m\u001b[0mX\u001b[0m\u001b[0;34m)\u001b[0m\u001b[0;34m\u001b[0m\u001b[0m\n\u001b[1;32m     30\u001b[0m     \u001b[0;32mreturn\u001b[0m \u001b[0mnp\u001b[0m\u001b[0;34m.\u001b[0m\u001b[0mmatmul\u001b[0m\u001b[0;34m(\u001b[0m\u001b[0mnp\u001b[0m\u001b[0;34m.\u001b[0m\u001b[0mmatmul\u001b[0m\u001b[0;34m(\u001b[0m\u001b[0mA\u001b[0m\u001b[0;34m.\u001b[0m\u001b[0mT\u001b[0m\u001b[0;34m,\u001b[0m \u001b[0mD\u001b[0m\u001b[0;34m)\u001b[0m\u001b[0;34m,\u001b[0m \u001b[0mA\u001b[0m\u001b[0;34m)\u001b[0m\u001b[0;34m\u001b[0m\u001b[0m\n",
      "\u001b[0;31mOverflowError\u001b[0m: (34, 'Result too large')"
     ]
    }
   ],
   "source": [
    "w = [1, 0, 1] # init of theta\n",
    "num_basis = len(w)\n",
    "theta = np.array(w, ndmin=2).reshape(num_basis, 1)\n",
    "\n",
    "X = [point for point in D1] + [point for point in D2]\n",
    "Y = [0 for i in range(len(D1))] + [1 for i in range(len(D2))]\n",
    "\n",
    "h = hession(X, theta)\n",
    "theta_newton = logistic_optimization(X, Y, theta, lr=0.1, max_epochs=100, batch_size=128)"
   ]
  },
  {
   "cell_type": "code",
   "execution_count": 7,
   "metadata": {},
   "outputs": [
    {
     "name": "stdout",
     "output_type": "stream",
     "text": [
      "Loss : 0.00\n",
      "Acc : 99.95\n"
     ]
    },
    {
     "data": {
      "image/png": "[encoded data removed]",
      "text/plain": [
       "<Figure size 720x360 with 2 Axes>"
      ]
     },
     "metadata": {},
     "output_type": "display_data"
    },
    {
     "name": "stdout",
     "output_type": "stream",
     "text": [
      "[[1]\n",
      " [0]\n",
      " [1]]\n"
     ]
    }
   ],
   "source": [
    "print('Loss : %.2f'% (compute_loss(X, Y, theta_newton)))\n",
    "print('Acc : %.2f'% (evaluation(X,Y,theta_newton)*100))\n",
    "plt.figure(figsize=(10,5))\n",
    "\n",
    "# Plot Ground Truth\n",
    "plt.subplot(121)\n",
    "plt.title('Ground Truth')\n",
    "plot_data(D1, D2)\n",
    "plt.ylim(np.min(X)-0.1, np.max(X)+0.1)\n",
    "plt.xlim(np.min(X)-0.1, np.max(X)+0.1)\n",
    "\n",
    "# Plot Prediction\n",
    "plt.subplot(122)\n",
    "plt.title('Prediction (Acc : %.2f%%)'%(evaluation(X,Y,theta_newton)*100))\n",
    "plot_data(D1, D2)\n",
    "plot_decision_boundary(theta_newton)\n",
    "plt.ylim(np.min(X)-0.1, np.max(X)+0.1)\n",
    "plt.xlim(np.min(X)-0.1, np.max(X)+0.1)\n",
    "plt.show()\n",
    "print(theta)"
   ]
  },
  {
   "cell_type": "code",
   "execution_count": null,
   "metadata": {},
   "outputs": [],
   "source": []
  },
  {
   "cell_type": "code",
   "execution_count": null,
   "metadata": {},
   "outputs": [],
   "source": []
  },
  {
   "cell_type": "code",
   "execution_count": null,
   "metadata": {},
   "outputs": [],
   "source": []
  }
 ],
 "metadata": {
  "kernelspec": {
   "display_name": "Python 3",
   "language": "python",
   "name": "python3"
  },
  "language_info": {
   "codemirror_mode": {
    "name": "ipython",
    "version": 3
   },
   "file_extension": ".py",
   "mimetype": "text/x-python",
   "name": "python",
   "nbconvert_exporter": "python",
   "pygments_lexer": "ipython3",
   "version": "3.7.0"
  }
 },
 "nbformat": 4,
 "nbformat_minor": 2
}
